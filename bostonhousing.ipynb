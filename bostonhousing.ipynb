{
 "cells": [
  {
   "cell_type": "code",
   "execution_count": 1,
   "metadata": {},
   "outputs": [],
   "source": [
    "import pandas as pd\n",
    "import numpy as np\n",
    "from sklearn.linear_model import LinearRegression, Ridge\n",
    "from sklearn.decomposition import PCA\n",
    "import matplotlib.pyplot as plt\n",
    "from sklearn.model_selection import train_test_split\n",
    "import seaborn as sb\n",
    "sb.set(rc={'figure.figsize':(11.7,8.27)})"
   ]
  },
  {
   "cell_type": "markdown",
   "metadata": {},
   "source": [
    "# Importing data"
   ]
  },
  {
   "cell_type": "code",
   "execution_count": 2,
   "metadata": {},
   "outputs": [
    {
     "data": {
      "text/html": [
       "<div>\n",
       "<style scoped>\n",
       "    .dataframe tbody tr th:only-of-type {\n",
       "        vertical-align: middle;\n",
       "    }\n",
       "\n",
       "    .dataframe tbody tr th {\n",
       "        vertical-align: top;\n",
       "    }\n",
       "\n",
       "    .dataframe thead th {\n",
       "        text-align: right;\n",
       "    }\n",
       "</style>\n",
       "<table border=\"1\" class=\"dataframe\">\n",
       "  <thead>\n",
       "    <tr style=\"text-align: right;\">\n",
       "      <th></th>\n",
       "      <th>crim</th>\n",
       "      <th>zn</th>\n",
       "      <th>indus</th>\n",
       "      <th>chas</th>\n",
       "      <th>nox</th>\n",
       "      <th>rm</th>\n",
       "      <th>age</th>\n",
       "      <th>dis</th>\n",
       "      <th>rad</th>\n",
       "      <th>tax</th>\n",
       "      <th>ptratio</th>\n",
       "      <th>black</th>\n",
       "      <th>lstat</th>\n",
       "    </tr>\n",
       "  </thead>\n",
       "  <tbody>\n",
       "    <tr>\n",
       "      <th>242</th>\n",
       "      <td>0.10290</td>\n",
       "      <td>30.0</td>\n",
       "      <td>4.93</td>\n",
       "      <td>0</td>\n",
       "      <td>0.428</td>\n",
       "      <td>6.358</td>\n",
       "      <td>52.9</td>\n",
       "      <td>7.0355</td>\n",
       "      <td>6</td>\n",
       "      <td>300</td>\n",
       "      <td>16.6</td>\n",
       "      <td>372.75</td>\n",
       "      <td>11.22</td>\n",
       "    </tr>\n",
       "    <tr>\n",
       "      <th>212</th>\n",
       "      <td>0.21719</td>\n",
       "      <td>0.0</td>\n",
       "      <td>10.59</td>\n",
       "      <td>1</td>\n",
       "      <td>0.489</td>\n",
       "      <td>5.807</td>\n",
       "      <td>53.8</td>\n",
       "      <td>3.6526</td>\n",
       "      <td>4</td>\n",
       "      <td>277</td>\n",
       "      <td>18.6</td>\n",
       "      <td>390.94</td>\n",
       "      <td>16.03</td>\n",
       "    </tr>\n",
       "    <tr>\n",
       "      <th>503</th>\n",
       "      <td>0.06076</td>\n",
       "      <td>0.0</td>\n",
       "      <td>11.93</td>\n",
       "      <td>0</td>\n",
       "      <td>0.573</td>\n",
       "      <td>6.976</td>\n",
       "      <td>91.0</td>\n",
       "      <td>2.1675</td>\n",
       "      <td>1</td>\n",
       "      <td>273</td>\n",
       "      <td>21.0</td>\n",
       "      <td>396.90</td>\n",
       "      <td>5.64</td>\n",
       "    </tr>\n",
       "    <tr>\n",
       "      <th>496</th>\n",
       "      <td>0.28960</td>\n",
       "      <td>0.0</td>\n",
       "      <td>9.69</td>\n",
       "      <td>0</td>\n",
       "      <td>0.585</td>\n",
       "      <td>5.390</td>\n",
       "      <td>72.9</td>\n",
       "      <td>2.7986</td>\n",
       "      <td>6</td>\n",
       "      <td>391</td>\n",
       "      <td>19.2</td>\n",
       "      <td>396.90</td>\n",
       "      <td>21.14</td>\n",
       "    </tr>\n",
       "    <tr>\n",
       "      <th>185</th>\n",
       "      <td>0.06047</td>\n",
       "      <td>0.0</td>\n",
       "      <td>2.46</td>\n",
       "      <td>0</td>\n",
       "      <td>0.488</td>\n",
       "      <td>6.153</td>\n",
       "      <td>68.8</td>\n",
       "      <td>3.2797</td>\n",
       "      <td>3</td>\n",
       "      <td>193</td>\n",
       "      <td>17.8</td>\n",
       "      <td>387.11</td>\n",
       "      <td>13.15</td>\n",
       "    </tr>\n",
       "  </tbody>\n",
       "</table>\n",
       "</div>"
      ],
      "text/plain": [
       "        crim    zn  indus  chas    nox     rm   age     dis  rad  tax  \\\n",
       "242  0.10290  30.0   4.93     0  0.428  6.358  52.9  7.0355    6  300   \n",
       "212  0.21719   0.0  10.59     1  0.489  5.807  53.8  3.6526    4  277   \n",
       "503  0.06076   0.0  11.93     0  0.573  6.976  91.0  2.1675    1  273   \n",
       "496  0.28960   0.0   9.69     0  0.585  5.390  72.9  2.7986    6  391   \n",
       "185  0.06047   0.0   2.46     0  0.488  6.153  68.8  3.2797    3  193   \n",
       "\n",
       "     ptratio   black  lstat  \n",
       "242     16.6  372.75  11.22  \n",
       "212     18.6  390.94  16.03  \n",
       "503     21.0  396.90   5.64  \n",
       "496     19.2  396.90  21.14  \n",
       "185     17.8  387.11  13.15  "
      ]
     },
     "execution_count": 2,
     "metadata": {},
     "output_type": "execute_result"
    }
   ],
   "source": [
    "X = pd.read_csv('Boston.csv')\n",
    "X = X.sample(frac=1) #shuffle\n",
    "y = X.pop('medv')\n",
    "X.head()"
   ]
  },
  {
   "cell_type": "markdown",
   "metadata": {},
   "source": [
    "# Visualising data"
   ]
  },
  {
   "cell_type": "code",
   "execution_count": 3,
   "metadata": {},
   "outputs": [
    {
     "data": {
      "text/plain": [
       "<matplotlib.collections.PathCollection at 0x7f8403a18f40>"
      ]
     },
     "execution_count": 3,
     "metadata": {},
     "output_type": "execute_result"
    },
    {
     "data": {
      "image/png": "[encoded data removed]",
      "text/plain": [
       "<Figure size 842.4x595.44 with 1 Axes>"
      ]
     },
     "metadata": {},
     "output_type": "display_data"
    }
   ],
   "source": [
    "#reducing all features to 1D to plot against midv to visualise.\n",
    "pca = PCA(n_components=1)\n",
    "x = pca.fit_transform(X)\n",
    "plt.scatter(x, y)"
   ]
  },
  {
   "cell_type": "code",
   "execution_count": 4,
   "metadata": {},
   "outputs": [
    {
     "data": {
      "text/plain": [
       "(array([ 45.,  37., 100.,  84.,  12.,  52.,  33.,   6.,   0.,   0.,   0.,\n",
       "         32.,  63.,   9.,  33.]),\n",
       " array([-225.17241485, -186.61078531, -148.04915576, -109.48752622,\n",
       "         -70.92589668,  -32.36426713,    6.19736241,   44.75899196,\n",
       "          83.3206215 ,  121.88225105,  160.44388059,  199.00551013,\n",
       "         237.56713968,  276.12876922,  314.69039877,  353.25202831]),\n",
       " <BarContainer object of 15 artists>)"
      ]
     },
     "execution_count": 4,
     "metadata": {},
     "output_type": "execute_result"
    },
    {
     "data": {
      "image/png": "[encoded data removed]",
      "text/plain": [
       "<Figure size 842.4x595.44 with 1 Axes>"
      ]
     },
     "metadata": {},
     "output_type": "display_data"
    }
   ],
   "source": [
    "plt.scatter(x, y)\n",
    "plt.hist(x, bins=15)"
   ]
  },
  {
   "cell_type": "markdown",
   "metadata": {},
   "source": [
    "# params heat map"
   ]
  },
  {
   "cell_type": "markdown",
   "metadata": {},
   "source": [
    "The above graph shows the depepndencies of each feature with respect to every other"
   ]
  },
  {
   "cell_type": "code",
   "execution_count": 5,
   "metadata": {
    "scrolled": false
   },
   "outputs": [
    {
     "data": {
      "text/plain": [
       "<AxesSubplot:>"
      ]
     },
     "execution_count": 5,
     "metadata": {},
     "output_type": "execute_result"
    },
    {
     "data": {
      "image/png": "[encoded data removed]",
      "text/plain": [
       "<Figure size 842.4x595.44 with 2 Axes>"
      ]
     },
     "metadata": {},
     "output_type": "display_data"
    }
   ],
   "source": [
    "correlation_matrix = X.corr().round(2)\n",
    "# annot = True to print the values inside the square\n",
    "sb.heatmap(data=correlation_matrix, annot=True)"
   ]
  },
  {
   "cell_type": "markdown",
   "metadata": {},
   "source": [
    "# Test Train split & training"
   ]
  },
  {
   "cell_type": "code",
   "execution_count": 6,
   "metadata": {},
   "outputs": [],
   "source": [
    "X_train, X_test, y_train, y_test = train_test_split(X, y, test_size = 0.2, shuffle = False)"
   ]
  },
  {
   "cell_type": "markdown",
   "metadata": {},
   "source": [
    "# Training & Testing function"
   ]
  },
  {
   "cell_type": "code",
   "execution_count": 7,
   "metadata": {
    "scrolled": false
   },
   "outputs": [],
   "source": [
    "def train_and_test(model, X_train=X_train, y_train=y_train, X_test=X_test, y_test=y_test):\n",
    "    model.fit(X_train, y_train)\n",
    "    # on training set\n",
    "    y_train_pred = model.predict(X_train)\n",
    "    from sklearn.metrics import mean_squared_error, r2_score\n",
    "    mse = mean_squared_error(y_train, y_train_pred)\n",
    "    rmse = np.sqrt(mse) #root mean squared error\n",
    "    r2 = r2_score(y_train, y_train_pred) #r2 score\n",
    "    print('Root mean squared error score on trainig set for model', model, ' = ', rmse)\n",
    "    print('--------------------------------------------------------------------')\n",
    "    print('r2 score on training set = ', r2)\n",
    "    print('*********************************************************************')\n",
    "    # on test split\n",
    "    y_test_pred = model.predict(X_test)\n",
    "    mse_test = mean_squared_error(y_test, y_test_pred)\n",
    "    rmse_test = np.sqrt(mse_test) #root mean squared error\n",
    "    r2_test = r2_score(y_test, y_test_pred) #r2 score\n",
    "    print('Root mean squared error score on test set for model', model, ' = ', rmse_test)\n",
    "    print('--------------------------------------------------------------------')\n",
    "    print('r2 score on test set = ', r2_test)\n",
    "    print('\\n')\n",
    "    print('++++++++++++++++++++++++++++++++++++++++++++++++++++++++++++++++++++')\n",
    "    print('\\n')\n",
    "    return(rmse, r2, rmse_test, r2_test)"
   ]
  },
  {
   "cell_type": "markdown",
   "metadata": {},
   "source": [
    "# Training and testing different *linear* models"
   ]
  },
  {
   "cell_type": "code",
   "execution_count": 8,
   "metadata": {},
   "outputs": [
    {
     "name": "stdout",
     "output_type": "stream",
     "text": [
      "Root mean squared error score on trainig set for model LinearRegression()  =  4.459419908349872\n",
      "--------------------------------------------------------------------\n",
      "r2 score on training set =  0.7377934981517299\n",
      "*********************************************************************\n",
      "Root mean squared error score on test set for model LinearRegression()  =  5.568662923490613\n",
      "--------------------------------------------------------------------\n",
      "r2 score on test set =  0.7357646386299246\n",
      "\n",
      "\n",
      "++++++++++++++++++++++++++++++++++++++++++++++++++++++++++++++++++++\n",
      "\n",
      "\n",
      "Root mean squared error score on trainig set for model Ridge()  =  4.478423539180558\n",
      "--------------------------------------------------------------------\n",
      "r2 score on training set =  0.7355539724633107\n",
      "*********************************************************************\n",
      "Root mean squared error score on test set for model Ridge()  =  5.601760708566677\n",
      "--------------------------------------------------------------------\n",
      "r2 score on test set =  0.7326142970071547\n",
      "\n",
      "\n",
      "++++++++++++++++++++++++++++++++++++++++++++++++++++++++++++++++++++\n",
      "\n",
      "\n"
     ]
    }
   ],
   "source": [
    "#basic linear regression model\n",
    "reg = LinearRegression()\n",
    "regscore = train_and_test(reg)\n",
    "#with regulrisation\n",
    "ridge = Ridge()\n",
    "ridgescore = train_and_test(ridge)"
   ]
  },
  {
   "cell_type": "markdown",
   "metadata": {},
   "source": [
    "## The scores are good, considering the outliers present in the dataset"
   ]
  },
  {
   "cell_type": "markdown",
   "metadata": {},
   "source": [
    "## No differnece in accuracy with regularization"
   ]
  },
  {
   "cell_type": "markdown",
   "metadata": {},
   "source": [
    "# Applying polynomial regression, the x, y plot before shows polynomial dependence and might yield better results."
   ]
  },
  {
   "cell_type": "code",
   "execution_count": 55,
   "metadata": {},
   "outputs": [],
   "source": [
    "from sklearn.preprocessing import PolynomialFeatures\n",
    "#looping for the optimal degree\n",
    "def polyregression(model):\n",
    "    score = []\n",
    "    for i in range(1,4):\n",
    "        poly = PolynomialFeatures(i)\n",
    "        X_train_poly = poly.fit_transform(X_train)\n",
    "        X_test_poly = poly.fit_transform(X_test)\n",
    "        print('for model ', model, 'and degree ', i)\n",
    "        model.fit(X_train_poly, y_train)\n",
    "        score.append(train_and_test(model, X_train_poly, y_train, X_test_poly, y_test))\n",
    "    return score"
   ]
  },
  {
   "cell_type": "code",
   "execution_count": 56,
   "metadata": {},
   "outputs": [
    {
     "name": "stdout",
     "output_type": "stream",
     "text": [
      "for model  LinearRegression() and degree  1\n",
      "Root mean squared error score on trainig set for model LinearRegression()  =  4.459419908349872\n",
      "--------------------------------------------------------------------\n",
      "r2 score on training set =  0.7377934981517299\n",
      "*********************************************************************\n",
      "Root mean squared error score on test set for model LinearRegression()  =  5.568662923490615\n",
      "--------------------------------------------------------------------\n",
      "r2 score on test set =  0.7357646386299244\n",
      "\n",
      "\n",
      "++++++++++++++++++++++++++++++++++++++++++++++++++++++++++++++++++++\n",
      "\n",
      "\n",
      "for model  LinearRegression() and degree  2\n",
      "Root mean squared error score on trainig set for model LinearRegression()  =  2.4015499201324615\n",
      "--------------------------------------------------------------------\n",
      "r2 score on training set =  0.9239551238344176\n",
      "*********************************************************************\n",
      "Root mean squared error score on test set for model LinearRegression()  =  3.7482881949196876\n",
      "--------------------------------------------------------------------\n",
      "r2 score on test set =  0.8802832202820814\n",
      "\n",
      "\n",
      "++++++++++++++++++++++++++++++++++++++++++++++++++++++++++++++++++++\n",
      "\n",
      "\n",
      "for model  LinearRegression() and degree  3\n",
      "Root mean squared error score on trainig set for model LinearRegression()  =  3.359461332858462e-05\n",
      "--------------------------------------------------------------------\n",
      "r2 score on training set =  0.9999999999851192\n",
      "*********************************************************************\n",
      "Root mean squared error score on test set for model LinearRegression()  =  1605.8823247150024\n",
      "--------------------------------------------------------------------\n",
      "r2 score on test set =  -21973.374004979083\n",
      "\n",
      "\n",
      "++++++++++++++++++++++++++++++++++++++++++++++++++++++++++++++++++++\n",
      "\n",
      "\n",
      "for model  Ridge() and degree  1\n",
      "Root mean squared error score on trainig set for model Ridge()  =  4.478423539180559\n",
      "--------------------------------------------------------------------\n",
      "r2 score on training set =  0.7355539724633104\n",
      "*********************************************************************\n",
      "Root mean squared error score on test set for model Ridge()  =  5.60176070856668\n",
      "--------------------------------------------------------------------\n",
      "r2 score on test set =  0.7326142970071544\n",
      "\n",
      "\n",
      "++++++++++++++++++++++++++++++++++++++++++++++++++++++++++++++++++++\n",
      "\n",
      "\n",
      "for model  Ridge() and degree  2\n",
      "Root mean squared error score on trainig set for model Ridge()  =  2.4893003824184183\n",
      "--------------------------------------------------------------------\n",
      "r2 score on training set =  0.9182963738903398\n",
      "*********************************************************************\n",
      "Root mean squared error score on test set for model Ridge()  =  4.305737385194454\n",
      "--------------------------------------------------------------------\n",
      "r2 score on test set =  0.8420265322485678\n",
      "\n",
      "\n",
      "++++++++++++++++++++++++++++++++++++++++++++++++++++++++++++++++++++\n",
      "\n",
      "\n",
      "for model  Ridge() and degree  3\n",
      "Root mean squared error score on trainig set for model Ridge()  =  3.3282785133721102\n",
      "--------------------------------------------------------------------\n",
      "r2 score on training set =  0.8539417669509938\n",
      "*********************************************************************\n",
      "Root mean squared error score on test set for model Ridge()  =  17.46715181089652\n",
      "--------------------------------------------------------------------\n",
      "r2 score on test set =  -1.599760048654185\n",
      "\n",
      "\n",
      "++++++++++++++++++++++++++++++++++++++++++++++++++++++++++++++++++++\n",
      "\n",
      "\n"
     ]
    },
    {
     "name": "stderr",
     "output_type": "stream",
     "text": [
      "/Users/vamshikodipaka/.local/share/virtualenvs/pythonvenv-LHfrLORk/lib/python3.9/site-packages/sklearn/linear_model/_ridge.py:190: UserWarning: Singular matrix in solving dual problem. Using least-squares solution instead.\n",
      "  warnings.warn(\"Singular matrix in solving dual problem. Using \"\n",
      "/Users/vamshikodipaka/.local/share/virtualenvs/pythonvenv-LHfrLORk/lib/python3.9/site-packages/sklearn/linear_model/_ridge.py:190: UserWarning: Singular matrix in solving dual problem. Using least-squares solution instead.\n",
      "  warnings.warn(\"Singular matrix in solving dual problem. Using \"\n"
     ]
    }
   ],
   "source": [
    "#linear regression without regularization\n",
    "polyreg_score = polyregression(reg)\n",
    "polyridge_score = polyregression(ridge)"
   ]
  },
  {
   "cell_type": "markdown",
   "metadata": {},
   "source": [
    "# Collecting all scores and comparing/analysing for the most optimal model."
   ]
  },
  {
   "cell_type": "code",
   "execution_count": 57,
   "metadata": {},
   "outputs": [
    {
     "name": "stdout",
     "output_type": "stream",
     "text": [
      "[[ 4.45941991e+00  7.37793498e-01  5.56866292e+00  7.35764639e-01]\n",
      " [ 4.47842354e+00  7.35553972e-01  5.60176071e+00  7.32614297e-01]\n",
      " [ 4.45941991e+00  7.37793498e-01  5.56866292e+00  7.35764639e-01]\n",
      " [ 2.40154992e+00  9.23955124e-01  3.74828819e+00  8.80283220e-01]\n",
      " [ 3.35946133e-05  1.00000000e+00  1.60588232e+03 -2.19733740e+04]\n",
      " [ 4.47842354e+00  7.35553972e-01  5.60176071e+00  7.32614297e-01]\n",
      " [ 2.48930038e+00  9.18296374e-01  4.30573739e+00  8.42026532e-01]\n",
      " [ 3.32827851e+00  8.53941767e-01  1.74671518e+01 -1.59976005e+00]]\n"
     ]
    }
   ],
   "source": [
    "#stacking all scores into a numpy array\n",
    "combined_scores_np = np.vstack([regscore, ridgescore, polyreg_score, polyridge_score])\n",
    "print(combined_scores_np)"
   ]
  },
  {
   "cell_type": "markdown",
   "metadata": {},
   "source": [
    "## converting to pandas and creating a table with labels"
   ]
  },
  {
   "cell_type": "code",
   "execution_count": 58,
   "metadata": {},
   "outputs": [
    {
     "data": {
      "text/html": [
       "<div>\n",
       "<style scoped>\n",
       "    .dataframe tbody tr th:only-of-type {\n",
       "        vertical-align: middle;\n",
       "    }\n",
       "\n",
       "    .dataframe tbody tr th {\n",
       "        vertical-align: top;\n",
       "    }\n",
       "\n",
       "    .dataframe thead th {\n",
       "        text-align: right;\n",
       "    }\n",
       "</style>\n",
       "<table border=\"1\" class=\"dataframe\">\n",
       "  <thead>\n",
       "    <tr style=\"text-align: right;\">\n",
       "      <th></th>\n",
       "      <th>0</th>\n",
       "      <th>1</th>\n",
       "      <th>2</th>\n",
       "      <th>3</th>\n",
       "    </tr>\n",
       "  </thead>\n",
       "  <tbody>\n",
       "    <tr>\n",
       "      <th>0</th>\n",
       "      <td>4.459420</td>\n",
       "      <td>0.737793</td>\n",
       "      <td>5.568663</td>\n",
       "      <td>0.735765</td>\n",
       "    </tr>\n",
       "    <tr>\n",
       "      <th>1</th>\n",
       "      <td>4.478424</td>\n",
       "      <td>0.735554</td>\n",
       "      <td>5.601761</td>\n",
       "      <td>0.732614</td>\n",
       "    </tr>\n",
       "    <tr>\n",
       "      <th>2</th>\n",
       "      <td>4.459420</td>\n",
       "      <td>0.737793</td>\n",
       "      <td>5.568663</td>\n",
       "      <td>0.735765</td>\n",
       "    </tr>\n",
       "    <tr>\n",
       "      <th>3</th>\n",
       "      <td>2.401550</td>\n",
       "      <td>0.923955</td>\n",
       "      <td>3.748288</td>\n",
       "      <td>0.880283</td>\n",
       "    </tr>\n",
       "    <tr>\n",
       "      <th>4</th>\n",
       "      <td>0.000034</td>\n",
       "      <td>1.000000</td>\n",
       "      <td>1605.882325</td>\n",
       "      <td>-21973.374005</td>\n",
       "    </tr>\n",
       "    <tr>\n",
       "      <th>5</th>\n",
       "      <td>4.478424</td>\n",
       "      <td>0.735554</td>\n",
       "      <td>5.601761</td>\n",
       "      <td>0.732614</td>\n",
       "    </tr>\n",
       "    <tr>\n",
       "      <th>6</th>\n",
       "      <td>2.489300</td>\n",
       "      <td>0.918296</td>\n",
       "      <td>4.305737</td>\n",
       "      <td>0.842027</td>\n",
       "    </tr>\n",
       "    <tr>\n",
       "      <th>7</th>\n",
       "      <td>3.328279</td>\n",
       "      <td>0.853942</td>\n",
       "      <td>17.467152</td>\n",
       "      <td>-1.599760</td>\n",
       "    </tr>\n",
       "  </tbody>\n",
       "</table>\n",
       "</div>"
      ],
      "text/plain": [
       "          0         1            2             3\n",
       "0  4.459420  0.737793     5.568663      0.735765\n",
       "1  4.478424  0.735554     5.601761      0.732614\n",
       "2  4.459420  0.737793     5.568663      0.735765\n",
       "3  2.401550  0.923955     3.748288      0.880283\n",
       "4  0.000034  1.000000  1605.882325 -21973.374005\n",
       "5  4.478424  0.735554     5.601761      0.732614\n",
       "6  2.489300  0.918296     4.305737      0.842027\n",
       "7  3.328279  0.853942    17.467152     -1.599760"
      ]
     },
     "execution_count": 58,
     "metadata": {},
     "output_type": "execute_result"
    }
   ],
   "source": [
    "combined_scores_df = pd.DataFrame(combined_scores_np)\n",
    "combined_scores_df"
   ]
  },
  {
   "cell_type": "code",
   "execution_count": 59,
   "metadata": {},
   "outputs": [
    {
     "data": {
      "text/html": [
       "<div>\n",
       "<style scoped>\n",
       "    .dataframe tbody tr th:only-of-type {\n",
       "        vertical-align: middle;\n",
       "    }\n",
       "\n",
       "    .dataframe tbody tr th {\n",
       "        vertical-align: top;\n",
       "    }\n",
       "\n",
       "    .dataframe thead th {\n",
       "        text-align: right;\n",
       "    }\n",
       "</style>\n",
       "<table border=\"1\" class=\"dataframe\">\n",
       "  <thead>\n",
       "    <tr style=\"text-align: right;\">\n",
       "      <th></th>\n",
       "      <th>rmse</th>\n",
       "      <th>r2</th>\n",
       "      <th>rmse_test</th>\n",
       "      <th>r2_test</th>\n",
       "    </tr>\n",
       "  </thead>\n",
       "  <tbody>\n",
       "    <tr>\n",
       "      <th>basic lr</th>\n",
       "      <td>4.459420</td>\n",
       "      <td>0.737793</td>\n",
       "      <td>5.568663</td>\n",
       "      <td>0.735765</td>\n",
       "    </tr>\n",
       "    <tr>\n",
       "      <th>regularised lr</th>\n",
       "      <td>4.478424</td>\n",
       "      <td>0.735554</td>\n",
       "      <td>5.601761</td>\n",
       "      <td>0.732614</td>\n",
       "    </tr>\n",
       "    <tr>\n",
       "      <th>basic lr degree 1</th>\n",
       "      <td>4.459420</td>\n",
       "      <td>0.737793</td>\n",
       "      <td>5.568663</td>\n",
       "      <td>0.735765</td>\n",
       "    </tr>\n",
       "    <tr>\n",
       "      <th>basic lr degree 2</th>\n",
       "      <td>2.401550</td>\n",
       "      <td>0.923955</td>\n",
       "      <td>3.748288</td>\n",
       "      <td>0.880283</td>\n",
       "    </tr>\n",
       "    <tr>\n",
       "      <th>basic lr degree 3</th>\n",
       "      <td>0.000034</td>\n",
       "      <td>1.000000</td>\n",
       "      <td>1605.882325</td>\n",
       "      <td>-21973.374005</td>\n",
       "    </tr>\n",
       "    <tr>\n",
       "      <th>regularised lr degree 1</th>\n",
       "      <td>4.478424</td>\n",
       "      <td>0.735554</td>\n",
       "      <td>5.601761</td>\n",
       "      <td>0.732614</td>\n",
       "    </tr>\n",
       "    <tr>\n",
       "      <th>regularised lr degree 2</th>\n",
       "      <td>2.489300</td>\n",
       "      <td>0.918296</td>\n",
       "      <td>4.305737</td>\n",
       "      <td>0.842027</td>\n",
       "    </tr>\n",
       "    <tr>\n",
       "      <th>regularised lr degree 3</th>\n",
       "      <td>3.328279</td>\n",
       "      <td>0.853942</td>\n",
       "      <td>17.467152</td>\n",
       "      <td>-1.599760</td>\n",
       "    </tr>\n",
       "  </tbody>\n",
       "</table>\n",
       "</div>"
      ],
      "text/plain": [
       "                             rmse        r2    rmse_test       r2_test\n",
       "basic lr                 4.459420  0.737793     5.568663      0.735765\n",
       "regularised lr           4.478424  0.735554     5.601761      0.732614\n",
       "basic lr degree 1        4.459420  0.737793     5.568663      0.735765\n",
       "basic lr degree 2        2.401550  0.923955     3.748288      0.880283\n",
       "basic lr degree 3        0.000034  1.000000  1605.882325 -21973.374005\n",
       "regularised lr degree 1  4.478424  0.735554     5.601761      0.732614\n",
       "regularised lr degree 2  2.489300  0.918296     4.305737      0.842027\n",
       "regularised lr degree 3  3.328279  0.853942    17.467152     -1.599760"
      ]
     },
     "execution_count": 59,
     "metadata": {},
     "output_type": "execute_result"
    }
   ],
   "source": [
    "combined_scores_df = pd.DataFrame(combined_scores_np, \n",
    "                columns = ['rmse', 'r2', 'rmse_test', 'r2_test'],\n",
    "                index = ['basic lr', 'regularised lr', 'basic lr degree 1', 'basic lr degree 2', 'basic lr degree 3', 'regularised lr degree 1', 'regularised lr degree 2', 'regularised lr degree 3']\n",
    "            )\n",
    "combined_scores_df"
   ]
  },
  {
   "cell_type": "markdown",
   "metadata": {},
   "source": [
    "# Observations"
   ]
  },
  {
   "cell_type": "markdown",
   "metadata": {},
   "source": [
    "### Baisc & regularised polynomial regression with degree 2 gives the best results. We can see that degree 3 there is extreme overfitting which is reflective in test scores."
   ]
  },
  {
   "cell_type": "code",
   "execution_count": 62,
   "metadata": {},
   "outputs": [
    {
     "name": "stdout",
     "output_type": "stream",
     "text": [
      "Root mean squared error score on trainig set for model LinearRegression()  =  2.4015499201324615\n",
      "--------------------------------------------------------------------\n",
      "r2 score on training set =  0.9239551238344176\n",
      "*********************************************************************\n",
      "Root mean squared error score on test set for model LinearRegression()  =  3.7482881949196876\n",
      "--------------------------------------------------------------------\n",
      "r2 score on test set =  0.8802832202820814\n",
      "\n",
      "\n",
      "++++++++++++++++++++++++++++++++++++++++++++++++++++++++++++++++++++\n",
      "\n",
      "\n"
     ]
    },
    {
     "data": {
      "text/plain": [
       "(2.4015499201324615,\n",
       " 0.9239551238344176,\n",
       " 3.7482881949196876,\n",
       " 0.8802832202820814)"
      ]
     },
     "execution_count": 62,
     "metadata": {},
     "output_type": "execute_result"
    }
   ],
   "source": [
    "poly = PolynomialFeatures(2)\n",
    "X_train_poly = poly.fit_transform(X_train)\n",
    "reg.fit(X_train_poly, y_train)\n",
    "train_and_test(reg, X_train_poly, y_train, X_test_poly, y_test)"
   ]
  },
  {
   "cell_type": "markdown",
   "metadata": {},
   "source": [
    "# Now this model can be used to give  most accurate predictions of housing prices"
   ]
  },
  {
   "cell_type": "code",
   "execution_count": null,
   "metadata": {},
   "outputs": [],
   "source": []
  }
 ],
 "metadata": {
  "kernelspec": {
   "display_name": "Python 3",
   "language": "python",
   "name": "python3"
  },
  "language_info": {
   "codemirror_mode": {
    "name": "ipython",
    "version": 3
   },
   "file_extension": ".py",
   "mimetype": "text/x-python",
   "name": "python",
   "nbconvert_exporter": "python",
   "pygments_lexer": "ipython3",
   "version": "3.9.0"
  }
 },
 "nbformat": 4,
 "nbformat_minor": 4
}
