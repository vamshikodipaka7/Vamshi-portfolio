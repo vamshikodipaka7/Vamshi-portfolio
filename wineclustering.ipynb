{
 "cells": [
  {
   "cell_type": "markdown",
   "metadata": {},
   "source": [
    "# Clustering Wine Datset"
   ]
  },
  {
   "cell_type": "code",
   "execution_count": 1,
   "metadata": {},
   "outputs": [],
   "source": [
    "import pandas as pd\n",
    "import numpy as np\n",
    "from sklearn.cluster import KMeans\n",
    "from sklearn.preprocessing import MinMaxScaler"
   ]
  },
  {
   "cell_type": "markdown",
   "metadata": {},
   "source": [
    "# Importing data"
   ]
  },
  {
   "cell_type": "code",
   "execution_count": 2,
   "metadata": {},
   "outputs": [
    {
     "data": {
      "text/html": [
       "<div>\n",
       "<style scoped>\n",
       "    .dataframe tbody tr th:only-of-type {\n",
       "        vertical-align: middle;\n",
       "    }\n",
       "\n",
       "    .dataframe tbody tr th {\n",
       "        vertical-align: top;\n",
       "    }\n",
       "\n",
       "    .dataframe thead th {\n",
       "        text-align: right;\n",
       "    }\n",
       "</style>\n",
       "<table border=\"1\" class=\"dataframe\">\n",
       "  <thead>\n",
       "    <tr style=\"text-align: right;\">\n",
       "      <th></th>\n",
       "      <th>Region</th>\n",
       "      <th>\\tAlcohol</th>\n",
       "      <th>Malic acid</th>\n",
       "      <th>Ash</th>\n",
       "      <th>Alcalinity of ash</th>\n",
       "      <th>Magnesium</th>\n",
       "      <th>Total phenols</th>\n",
       "      <th>Flavanoids</th>\n",
       "      <th>Nonflavanoid phenols</th>\n",
       "      <th>Proanthocyanins</th>\n",
       "      <th>Color intensity</th>\n",
       "      <th>Hue</th>\n",
       "      <th>OD280/OD315 of diluted wines</th>\n",
       "      <th>Proline</th>\n",
       "    </tr>\n",
       "  </thead>\n",
       "  <tbody>\n",
       "    <tr>\n",
       "      <th>46</th>\n",
       "      <td>1</td>\n",
       "      <td>14.38</td>\n",
       "      <td>3.59</td>\n",
       "      <td>2.28</td>\n",
       "      <td>16.0</td>\n",
       "      <td>102</td>\n",
       "      <td>3.25</td>\n",
       "      <td>3.17</td>\n",
       "      <td>0.27</td>\n",
       "      <td>2.19</td>\n",
       "      <td>4.90</td>\n",
       "      <td>1.04</td>\n",
       "      <td>3.44</td>\n",
       "      <td>1065</td>\n",
       "    </tr>\n",
       "    <tr>\n",
       "      <th>124</th>\n",
       "      <td>2</td>\n",
       "      <td>11.87</td>\n",
       "      <td>4.31</td>\n",
       "      <td>2.39</td>\n",
       "      <td>21.0</td>\n",
       "      <td>82</td>\n",
       "      <td>2.86</td>\n",
       "      <td>3.03</td>\n",
       "      <td>0.21</td>\n",
       "      <td>2.91</td>\n",
       "      <td>2.80</td>\n",
       "      <td>0.75</td>\n",
       "      <td>3.64</td>\n",
       "      <td>380</td>\n",
       "    </tr>\n",
       "    <tr>\n",
       "      <th>13</th>\n",
       "      <td>1</td>\n",
       "      <td>14.75</td>\n",
       "      <td>1.73</td>\n",
       "      <td>2.39</td>\n",
       "      <td>11.4</td>\n",
       "      <td>91</td>\n",
       "      <td>3.10</td>\n",
       "      <td>3.69</td>\n",
       "      <td>0.43</td>\n",
       "      <td>2.81</td>\n",
       "      <td>5.40</td>\n",
       "      <td>1.25</td>\n",
       "      <td>2.73</td>\n",
       "      <td>1150</td>\n",
       "    </tr>\n",
       "    <tr>\n",
       "      <th>113</th>\n",
       "      <td>2</td>\n",
       "      <td>11.41</td>\n",
       "      <td>0.74</td>\n",
       "      <td>2.50</td>\n",
       "      <td>21.0</td>\n",
       "      <td>88</td>\n",
       "      <td>2.48</td>\n",
       "      <td>2.01</td>\n",
       "      <td>0.42</td>\n",
       "      <td>1.44</td>\n",
       "      <td>3.08</td>\n",
       "      <td>1.10</td>\n",
       "      <td>2.31</td>\n",
       "      <td>434</td>\n",
       "    </tr>\n",
       "    <tr>\n",
       "      <th>140</th>\n",
       "      <td>3</td>\n",
       "      <td>12.93</td>\n",
       "      <td>2.81</td>\n",
       "      <td>2.70</td>\n",
       "      <td>21.0</td>\n",
       "      <td>96</td>\n",
       "      <td>1.54</td>\n",
       "      <td>0.50</td>\n",
       "      <td>0.53</td>\n",
       "      <td>0.75</td>\n",
       "      <td>4.60</td>\n",
       "      <td>0.77</td>\n",
       "      <td>2.31</td>\n",
       "      <td>600</td>\n",
       "    </tr>\n",
       "  </tbody>\n",
       "</table>\n",
       "</div>"
      ],
      "text/plain": [
       "     Region   \\tAlcohol  Malic acid   Ash  Alcalinity of ash     Magnesium  \\\n",
       "46        1       14.38        3.59  2.28                 16.0         102   \n",
       "124       2       11.87        4.31  2.39                 21.0          82   \n",
       "13        1       14.75        1.73  2.39                 11.4          91   \n",
       "113       2       11.41        0.74  2.50                 21.0          88   \n",
       "140       3       12.93        2.81  2.70                 21.0          96   \n",
       "\n",
       "     Total phenols   Flavanoids  Nonflavanoid phenols  Proanthocyanins  \\\n",
       "46            3.25         3.17                  0.27             2.19   \n",
       "124           2.86         3.03                  0.21             2.91   \n",
       "13            3.10         3.69                  0.43             2.81   \n",
       "113           2.48         2.01                  0.42             1.44   \n",
       "140           1.54         0.50                  0.53             0.75   \n",
       "\n",
       "     Color intensity   Hue  OD280/OD315 of diluted wines  Proline              \n",
       "46              4.90  1.04                          3.44                 1065  \n",
       "124             2.80  0.75                          3.64                  380  \n",
       "13              5.40  1.25                          2.73                 1150  \n",
       "113             3.08  1.10                          2.31                  434  \n",
       "140             4.60  0.77                          2.31                  600  "
      ]
     },
     "execution_count": 2,
     "metadata": {},
     "output_type": "execute_result"
    }
   ],
   "source": [
    "X = pd.read_csv('wine.data.csv')\n",
    "#Shuffling data\n",
    "X = X.sample(frac=1)\n",
    "X.head()"
   ]
  },
  {
   "cell_type": "markdown",
   "metadata": {},
   "source": [
    "# Scaling features"
   ]
  },
  {
   "cell_type": "code",
   "execution_count": 3,
   "metadata": {},
   "outputs": [
    {
     "name": "stdout",
     "output_type": "stream",
     "text": [
      "[[0.         0.88157895 0.56324111 ... 0.45528455 0.79487179 0.56134094]\n",
      " [0.5        0.22105263 0.7055336  ... 0.2195122  0.86813187 0.07275321]\n",
      " [0.         0.97894737 0.19565217 ... 0.62601626 0.53479853 0.62196862]\n",
      " ...\n",
      " [0.         0.87894737 0.23913043 ... 0.30894309 0.7985348  0.85734665]\n",
      " [1.         0.56315789 0.87944664 ... 0.09756098 0.07692308 0.31883024]\n",
      " [0.5        0.15526316 0.24703557 ... 0.55284553 0.61904762 0.04778887]]\n"
     ]
    }
   ],
   "source": [
    "mms = MinMaxScaler()\n",
    "mms.fit(X)\n",
    "X=mms.transform(X)\n",
    "print(X)"
   ]
  },
  {
   "cell_type": "markdown",
   "metadata": {},
   "source": [
    "# Visualising clusters"
   ]
  },
  {
   "cell_type": "markdown",
   "metadata": {},
   "source": [
    "### Reducing dimensionality"
   ]
  },
  {
   "cell_type": "code",
   "execution_count": 4,
   "metadata": {},
   "outputs": [
    {
     "name": "stdout",
     "output_type": "stream",
     "text": [
      "[[0.         0.88157895 0.56324111 ... 0.45528455 0.79487179 0.56134094]\n",
      " [0.5        0.22105263 0.7055336  ... 0.2195122  0.86813187 0.07275321]\n",
      " [0.         0.97894737 0.19565217 ... 0.62601626 0.53479853 0.62196862]\n",
      " ...\n",
      " [0.         0.87894737 0.23913043 ... 0.30894309 0.7985348  0.85734665]\n",
      " [1.         0.56315789 0.87944664 ... 0.09756098 0.07692308 0.31883024]\n",
      " [0.5        0.15526316 0.24703557 ... 0.55284553 0.61904762 0.04778887]]\n"
     ]
    }
   ],
   "source": [
    "#reducing dimensions using PCA for plotting\n",
    "from sklearn.decomposition import PCA\n",
    "pca = PCA(n_components=2)\n",
    "pca.fit(X)\n",
    "X_2D = pca.transform(X)\n",
    "print(X)\n",
    "x = X_2D[:,0]\n",
    "y = X_2D[:,1]"
   ]
  },
  {
   "cell_type": "markdown",
   "metadata": {},
   "source": [
    " ### Plotting"
   ]
  },
  {
   "cell_type": "code",
   "execution_count": 5,
   "metadata": {
    "scrolled": true
   },
   "outputs": [
    {
     "data": {
      "text/plain": [
       "<matplotlib.collections.PathCollection at 0x7fe3a4181df0>"
      ]
     },
     "execution_count": 5,
     "metadata": {},
     "output_type": "execute_result"
    },
    {
     "data": {
      "image/png": "[encoded data removed]",
      "text/plain": [
       "<Figure size 432x288 with 1 Axes>"
      ]
     },
     "metadata": {
      "needs_background": "light"
     },
     "output_type": "display_data"
    }
   ],
   "source": [
    "import matplotlib.pyplot as plt\n",
    "\n",
    "plt.scatter(x,y)"
   ]
  },
  {
   "cell_type": "markdown",
   "metadata": {},
   "source": [
    "Visually there are three clusters, but using the **elbow method** will give a more accurate number of clusters."
   ]
  },
  {
   "cell_type": "markdown",
   "metadata": {},
   "source": [
    "# KMeans Elbow method"
   ]
  },
  {
   "cell_type": "code",
   "execution_count": 6,
   "metadata": {},
   "outputs": [
    {
     "data": {
      "image/png": "[encoded data removed]",
      "text/plain": [
       "<Figure size 432x288 with 1 Axes>"
      ]
     },
     "metadata": {
      "needs_background": "light"
     },
     "output_type": "display_data"
    }
   ],
   "source": [
    "ssd = [] #sum of squared distances\n",
    "K = range(1,11)\n",
    "for i in K:\n",
    "    km = KMeans(n_clusters = i)\n",
    "    km.fit(X)\n",
    "    km.transform(X)\n",
    "    ssd.append(km.inertia_)\n",
    "\n",
    "plt.plot(K, ssd, 'bx-')\n",
    "plt.xlabel('K')\n",
    "plt.ylabel('Sum of squared distances')\n",
    "plt.title('Elbow Method For Optimal k')\n",
    "plt.show()"
   ]
  },
  {
   "cell_type": "markdown",
   "metadata": {},
   "source": [
    "**3** looks like the most optimal number of clusters"
   ]
  },
  {
   "cell_type": "markdown",
   "metadata": {},
   "source": [
    "# Test and Training split"
   ]
  },
  {
   "cell_type": "code",
   "execution_count": 7,
   "metadata": {},
   "outputs": [],
   "source": [
    "from sklearn.model_selection import train_test_split\n",
    "X_train, X_test = train_test_split(X, test_size=0.1, random_state=42, shuffle=False) #already shuffeld at start\n",
    "#the reason it is not shuffled here is when PCA is being applied to the train and test datasets, it gets scaled\n",
    "# differently and does not fit the graph properly."
   ]
  },
  {
   "cell_type": "code",
   "execution_count": 8,
   "metadata": {},
   "outputs": [
    {
     "name": "stdout",
     "output_type": "stream",
     "text": [
      "[[-0.70887529 -0.2100967 ]\n",
      " [ 0.75307574 -0.17515385]\n",
      " [-0.04420045  0.38525054]]\n"
     ]
    }
   ],
   "source": [
    "km = KMeans(n_clusters = 3)\n",
    "km.fit(X_train)\n",
    "km.transform(X_train)\n",
    "y_kmeans = km.predict(X_train)\n",
    "clusterpoints = pca.fit_transform(km.cluster_centers_)\n",
    "x= pca.fit_transform(X_train)\n",
    "print(clusterpoints)"
   ]
  },
  {
   "cell_type": "code",
   "execution_count": 9,
   "metadata": {},
   "outputs": [
    {
     "data": {
      "text/plain": [
       "<function matplotlib.pyplot.show(close=None, block=None)>"
      ]
     },
     "execution_count": 9,
     "metadata": {},
     "output_type": "execute_result"
    },
    {
     "data": {
      "image/png": "[encoded data removed]",
      "text/plain": [
       "<Figure size 432x288 with 1 Axes>"
      ]
     },
     "metadata": {
      "needs_background": "light"
     },
     "output_type": "display_data"
    }
   ],
   "source": [
    "plt.scatter(x[:,0][y_kmeans==0], x[:,1][y_kmeans==0], s=5, c='red', label ='Cluster 1')\n",
    "plt.scatter(x[:,0][y_kmeans==1], x[:,1][y_kmeans==1], s=5, c='blue', label ='Cluster 2')\n",
    "plt.scatter(x[:,0][y_kmeans==2], x[:,1][y_kmeans==2], s=5, c='green', label ='Cluster 3')\n",
    "plt.scatter(clusterpoints[:,0], clusterpoints[:,1], s=50, c='magenta', label = 'Centroids')\n",
    "plt.title('Categorised wine')\n",
    "plt.xlabel('Component 1')\n",
    "plt.ylabel('Component 2')\n",
    "plt.show"
   ]
  },
  {
   "cell_type": "markdown",
   "metadata": {},
   "source": [
    "# Use?"
   ]
  },
  {
   "cell_type": "markdown",
   "metadata": {},
   "source": [
    "Now, given a new sample with certain features, we can predict which group it belongs to apply common analysis of its qualities and stuff etc."
   ]
  },
  {
   "cell_type": "code",
   "execution_count": 10,
   "metadata": {},
   "outputs": [],
   "source": [
    "# for example, the 10% test data can be used here\n",
    "y_t = km.predict(X_test)\n",
    "x_t = pca.fit_transform(X_test) "
   ]
  },
  {
   "cell_type": "code",
   "execution_count": 11,
   "metadata": {},
   "outputs": [
    {
     "data": {
      "text/plain": [
       "<function matplotlib.pyplot.show(close=None, block=None)>"
      ]
     },
     "execution_count": 11,
     "metadata": {},
     "output_type": "execute_result"
    },
    {
     "data": {
      "image/png": "[encoded data removed]",
      "text/plain": [
       "<Figure size 432x288 with 1 Axes>"
      ]
     },
     "metadata": {
      "needs_background": "light"
     },
     "output_type": "display_data"
    }
   ],
   "source": [
    "plt.scatter(x_t[:,0][y_t==0], x_t[:,1][y_t==0], s=5, c='red', label ='Cluster 1')\n",
    "plt.scatter(x_t[:,0][y_t==1], x_t[:,1][y_t==1], s=5, c='blue', label ='Cluster 2')\n",
    "plt.scatter(x_t[:,0][y_t==2], x_t[:,1][y_t==2], s=5, c='green', label ='Cluster 3')\n",
    "plt.scatter(clusterpoints[:,0], clusterpoints[:,1], s=50, c='magenta', label = 'Centroids')\n",
    "plt.title('Categorised wine')\n",
    "plt.xlabel('Component 1')\n",
    "plt.ylabel('Component 2')\n",
    "plt.show"
   ]
  },
  {
   "cell_type": "code",
   "execution_count": null,
   "metadata": {},
   "outputs": [],
   "source": []
  }
 ],
 "metadata": {
  "kernelspec": {
   "display_name": "Python 3",
   "language": "python",
   "name": "python3"
  },
  "language_info": {
   "codemirror_mode": {
    "name": "ipython",
    "version": 3
   },
   "file_extension": ".py",
   "mimetype": "text/x-python",
   "name": "python",
   "nbconvert_exporter": "python",
   "pygments_lexer": "ipython3",
   "version": "3.9.0"
  }
 },
 "nbformat": 4,
 "nbformat_minor": 4
}
