{
 "cells": [
  {
   "cell_type": "markdown",
   "metadata": {},
   "source": [
    "# Clustering Wine Datset"
   ]
  },
  {
   "cell_type": "code",
   "execution_count": 26,
   "metadata": {},
   "outputs": [],
   "source": [
    "import pandas as pd\n",
    "import numpy as np\n",
    "from sklearn.cluster import KMeans\n",
    "from sklearn.preprocessing import MinMaxScaler\n",
    "import seaborn as sb\n",
    "sb.set(rc={'figure.figsize':(11.7,8.27)})"
   ]
  },
  {
   "cell_type": "markdown",
   "metadata": {},
   "source": [
    "# Importing data"
   ]
  },
  {
   "cell_type": "code",
   "execution_count": 27,
   "metadata": {},
   "outputs": [
    {
     "data": {
      "text/html": [
       "<div>\n",
       "<style scoped>\n",
       "    .dataframe tbody tr th:only-of-type {\n",
       "        vertical-align: middle;\n",
       "    }\n",
       "\n",
       "    .dataframe tbody tr th {\n",
       "        vertical-align: top;\n",
       "    }\n",
       "\n",
       "    .dataframe thead th {\n",
       "        text-align: right;\n",
       "    }\n",
       "</style>\n",
       "<table border=\"1\" class=\"dataframe\">\n",
       "  <thead>\n",
       "    <tr style=\"text-align: right;\">\n",
       "      <th></th>\n",
       "      <th>Region</th>\n",
       "      <th>\\tAlcohol</th>\n",
       "      <th>Malic acid</th>\n",
       "      <th>Ash</th>\n",
       "      <th>Alcalinity of ash</th>\n",
       "      <th>Magnesium</th>\n",
       "      <th>Total phenols</th>\n",
       "      <th>Flavanoids</th>\n",
       "      <th>Nonflavanoid phenols</th>\n",
       "      <th>Proanthocyanins</th>\n",
       "      <th>Color intensity</th>\n",
       "      <th>Hue</th>\n",
       "      <th>OD280/OD315 of diluted wines</th>\n",
       "      <th>Proline</th>\n",
       "    </tr>\n",
       "  </thead>\n",
       "  <tbody>\n",
       "    <tr>\n",
       "      <th>44</th>\n",
       "      <td>1</td>\n",
       "      <td>13.05</td>\n",
       "      <td>1.77</td>\n",
       "      <td>2.10</td>\n",
       "      <td>17.0</td>\n",
       "      <td>107</td>\n",
       "      <td>3.00</td>\n",
       "      <td>3.00</td>\n",
       "      <td>0.28</td>\n",
       "      <td>2.03</td>\n",
       "      <td>5.04</td>\n",
       "      <td>0.88</td>\n",
       "      <td>3.35</td>\n",
       "      <td>885</td>\n",
       "    </tr>\n",
       "    <tr>\n",
       "      <th>57</th>\n",
       "      <td>1</td>\n",
       "      <td>13.29</td>\n",
       "      <td>1.97</td>\n",
       "      <td>2.68</td>\n",
       "      <td>16.8</td>\n",
       "      <td>102</td>\n",
       "      <td>3.00</td>\n",
       "      <td>3.23</td>\n",
       "      <td>0.31</td>\n",
       "      <td>1.66</td>\n",
       "      <td>6.00</td>\n",
       "      <td>1.07</td>\n",
       "      <td>2.84</td>\n",
       "      <td>1270</td>\n",
       "    </tr>\n",
       "    <tr>\n",
       "      <th>16</th>\n",
       "      <td>1</td>\n",
       "      <td>14.30</td>\n",
       "      <td>1.92</td>\n",
       "      <td>2.72</td>\n",
       "      <td>20.0</td>\n",
       "      <td>120</td>\n",
       "      <td>2.80</td>\n",
       "      <td>3.14</td>\n",
       "      <td>0.33</td>\n",
       "      <td>1.97</td>\n",
       "      <td>6.20</td>\n",
       "      <td>1.07</td>\n",
       "      <td>2.65</td>\n",
       "      <td>1280</td>\n",
       "    </tr>\n",
       "    <tr>\n",
       "      <th>107</th>\n",
       "      <td>2</td>\n",
       "      <td>12.72</td>\n",
       "      <td>1.75</td>\n",
       "      <td>2.28</td>\n",
       "      <td>22.5</td>\n",
       "      <td>84</td>\n",
       "      <td>1.38</td>\n",
       "      <td>1.76</td>\n",
       "      <td>0.48</td>\n",
       "      <td>1.63</td>\n",
       "      <td>3.30</td>\n",
       "      <td>0.88</td>\n",
       "      <td>2.42</td>\n",
       "      <td>488</td>\n",
       "    </tr>\n",
       "    <tr>\n",
       "      <th>74</th>\n",
       "      <td>2</td>\n",
       "      <td>11.96</td>\n",
       "      <td>1.09</td>\n",
       "      <td>2.30</td>\n",
       "      <td>21.0</td>\n",
       "      <td>101</td>\n",
       "      <td>3.38</td>\n",
       "      <td>2.14</td>\n",
       "      <td>0.13</td>\n",
       "      <td>1.65</td>\n",
       "      <td>3.21</td>\n",
       "      <td>0.99</td>\n",
       "      <td>3.13</td>\n",
       "      <td>886</td>\n",
       "    </tr>\n",
       "  </tbody>\n",
       "</table>\n",
       "</div>"
      ],
      "text/plain": [
       "     Region   \\tAlcohol  Malic acid   Ash  Alcalinity of ash     Magnesium  \\\n",
       "44        1       13.05        1.77  2.10                 17.0         107   \n",
       "57        1       13.29        1.97  2.68                 16.8         102   \n",
       "16        1       14.30        1.92  2.72                 20.0         120   \n",
       "107       2       12.72        1.75  2.28                 22.5          84   \n",
       "74        2       11.96        1.09  2.30                 21.0         101   \n",
       "\n",
       "     Total phenols   Flavanoids  Nonflavanoid phenols  Proanthocyanins  \\\n",
       "44            3.00         3.00                  0.28             2.03   \n",
       "57            3.00         3.23                  0.31             1.66   \n",
       "16            2.80         3.14                  0.33             1.97   \n",
       "107           1.38         1.76                  0.48             1.63   \n",
       "74            3.38         2.14                  0.13             1.65   \n",
       "\n",
       "     Color intensity   Hue  OD280/OD315 of diluted wines  Proline              \n",
       "44              5.04  0.88                          3.35                  885  \n",
       "57              6.00  1.07                          2.84                 1270  \n",
       "16              6.20  1.07                          2.65                 1280  \n",
       "107             3.30  0.88                          2.42                  488  \n",
       "74              3.21  0.99                          3.13                  886  "
      ]
     },
     "execution_count": 27,
     "metadata": {},
     "output_type": "execute_result"
    }
   ],
   "source": [
    "X = pd.read_csv('wine.data.csv')\n",
    "#Shuffling data\n",
    "X = X.sample(frac=1)\n",
    "X.head()"
   ]
  },
  {
   "cell_type": "markdown",
   "metadata": {},
   "source": [
    "# Scaling features"
   ]
  },
  {
   "cell_type": "code",
   "execution_count": 28,
   "metadata": {},
   "outputs": [
    {
     "name": "stdout",
     "output_type": "stream",
     "text": [
      "[[0.         0.53157895 0.20355731 ... 0.32520325 0.76190476 0.43295292]\n",
      " [0.         0.59473684 0.243083   ... 0.4796748  0.57509158 0.70756063]\n",
      " [0.         0.86052632 0.23320158 ... 0.4796748  0.50549451 0.7146933 ]\n",
      " ...\n",
      " [0.5        0.43684211 0.15612648 ... 0.3902439  0.28937729 0.15477889]\n",
      " [0.5        0.34210526 0.04940711 ... 0.47154472 0.38095238 0.33666191]\n",
      " [0.         0.65263158 0.20948617 ... 0.50406504 0.58608059 0.58273894]]\n"
     ]
    }
   ],
   "source": [
    "mms = MinMaxScaler()\n",
    "mms.fit(X)\n",
    "X=mms.transform(X)\n",
    "print(X)"
   ]
  },
  {
   "cell_type": "markdown",
   "metadata": {},
   "source": [
    "# Visualising clusters"
   ]
  },
  {
   "cell_type": "markdown",
   "metadata": {},
   "source": [
    "### Reducing dimensionality"
   ]
  },
  {
   "cell_type": "code",
   "execution_count": 29,
   "metadata": {},
   "outputs": [
    {
     "name": "stdout",
     "output_type": "stream",
     "text": [
      "[[0.         0.53157895 0.20355731 ... 0.32520325 0.76190476 0.43295292]\n",
      " [0.         0.59473684 0.243083   ... 0.4796748  0.57509158 0.70756063]\n",
      " [0.         0.86052632 0.23320158 ... 0.4796748  0.50549451 0.7146933 ]\n",
      " ...\n",
      " [0.5        0.43684211 0.15612648 ... 0.3902439  0.28937729 0.15477889]\n",
      " [0.5        0.34210526 0.04940711 ... 0.47154472 0.38095238 0.33666191]\n",
      " [0.         0.65263158 0.20948617 ... 0.50406504 0.58608059 0.58273894]]\n"
     ]
    }
   ],
   "source": [
    "#reducing dimensions using PCA for plotting\n",
    "from sklearn.decomposition import PCA\n",
    "pca = PCA(n_components=2)\n",
    "pca.fit(X)\n",
    "X_2D = pca.transform(X)\n",
    "print(X)\n",
    "x = X_2D[:,0]\n",
    "y = X_2D[:,1]"
   ]
  },
  {
   "cell_type": "markdown",
   "metadata": {},
   "source": [
    " ### Plotting"
   ]
  },
  {
   "cell_type": "code",
   "execution_count": 30,
   "metadata": {
    "scrolled": false
   },
   "outputs": [
    {
     "data": {
      "text/plain": [
       "<matplotlib.collections.PathCollection at 0x7ff5c7d43b20>"
      ]
     },
     "execution_count": 30,
     "metadata": {},
     "output_type": "execute_result"
    },
    {
     "data": {
      "image/png": "[encoded data removed]",
      "text/plain": [
       "<Figure size 842.4x595.44 with 1 Axes>"
      ]
     },
     "metadata": {},
     "output_type": "display_data"
    }
   ],
   "source": [
    "import matplotlib.pyplot as plt\n",
    "plt.scatter(x,y)"
   ]
  },
  {
   "cell_type": "markdown",
   "metadata": {},
   "source": [
    "Visually there are three clusters, but using the **elbow method** will give a more accurate number of clusters."
   ]
  },
  {
   "cell_type": "markdown",
   "metadata": {},
   "source": [
    "# KMeans Elbow method"
   ]
  },
  {
   "cell_type": "code",
   "execution_count": null,
   "metadata": {},
   "outputs": [],
   "source": [
    "ssd = [] #sum of squared distances\n",
    "K = range(1,11)\n",
    "for i in K:\n",
    "    km = KMeans(n_clusters = i)\n",
    "    km.fit(X)\n",
    "    km.transform(X)\n",
    "    ssd.append(km.inertia_)\n",
    "\n",
    "plt.plot(K, ssd, 'bx-')\n",
    "plt.xlabel('K')\n",
    "plt.ylabel('Sum of squared distances')\n",
    "plt.title('Elbow Method For Optimal k')\n",
    "plt.show()"
   ]
  },
  {
   "cell_type": "markdown",
   "metadata": {},
   "source": [
    "**3** looks like the most optimal number of clusters"
   ]
  },
  {
   "cell_type": "markdown",
   "metadata": {},
   "source": [
    "# Test and Training split"
   ]
  },
  {
   "cell_type": "code",
   "execution_count": 21,
   "metadata": {},
   "outputs": [],
   "source": [
    "from sklearn.model_selection import train_test_split\n",
    "X_train, X_test = train_test_split(X, test_size=0.1, random_state=42, shuffle=False) #already shuffeld at start\n",
    "#the reason it is not shuffled here is when PCA is being applied to the train and test datasets, it gets scaled\n",
    "# differently and does not fit the graph properly."
   ]
  },
  {
   "cell_type": "code",
   "execution_count": 22,
   "metadata": {},
   "outputs": [
    {
     "name": "stdout",
     "output_type": "stream",
     "text": [
      "[[-0.04255826  0.38217676]\n",
      " [ 0.75557728 -0.1744758 ]\n",
      " [-0.71301902 -0.20770096]]\n"
     ]
    }
   ],
   "source": [
    "km = KMeans(n_clusters = 3)\n",
    "km.fit(X_train)\n",
    "km.transform(X_train)\n",
    "y_kmeans = km.predict(X_train)\n",
    "clusterpoints = pca.fit_transform(km.cluster_centers_)\n",
    "x= pca.fit_transform(X_train)\n",
    "print(clusterpoints)"
   ]
  },
  {
   "cell_type": "code",
   "execution_count": 23,
   "metadata": {},
   "outputs": [
    {
     "data": {
      "text/plain": [
       "<function matplotlib.pyplot.show(close=None, block=None)>"
      ]
     },
     "execution_count": 23,
     "metadata": {},
     "output_type": "execute_result"
    },
    {
     "data": {
      "image/png": "[encoded data removed]",
      "text/plain": [
       "<Figure size 842.4x595.44 with 1 Axes>"
      ]
     },
     "metadata": {},
     "output_type": "display_data"
    }
   ],
   "source": [
    "plt.scatter(x[:,0][y_kmeans==0], x[:,1][y_kmeans==0], s=5, c='red', label ='Cluster 1')\n",
    "plt.scatter(x[:,0][y_kmeans==1], x[:,1][y_kmeans==1], s=5, c='blue', label ='Cluster 2')\n",
    "plt.scatter(x[:,0][y_kmeans==2], x[:,1][y_kmeans==2], s=5, c='green', label ='Cluster 3')\n",
    "plt.scatter(clusterpoints[:,0], clusterpoints[:,1], s=50, c='magenta', label = 'Centroids')\n",
    "plt.title('Categorised wine')\n",
    "plt.xlabel('Component 1')\n",
    "plt.ylabel('Component 2')\n",
    "plt.show"
   ]
  },
  {
   "cell_type": "markdown",
   "metadata": {},
   "source": [
    "# Use?"
   ]
  },
  {
   "cell_type": "markdown",
   "metadata": {},
   "source": [
    "Now, given a new sample with certain features, we can predict which group it belongs to apply common analysis of its qualities and stuff etc."
   ]
  },
  {
   "cell_type": "code",
   "execution_count": 24,
   "metadata": {},
   "outputs": [],
   "source": [
    "# for example, the 10% test data can be used here\n",
    "y_t = km.predict(X_test)\n",
    "x_t = pca.fit_transform(X_test) "
   ]
  },
  {
   "cell_type": "code",
   "execution_count": 25,
   "metadata": {},
   "outputs": [
    {
     "data": {
      "text/plain": [
       "<function matplotlib.pyplot.show(close=None, block=None)>"
      ]
     },
     "execution_count": 25,
     "metadata": {},
     "output_type": "execute_result"
    },
    {
     "data": {
      "image/png": "[encoded data removed]",
      "text/plain": [
       "<Figure size 842.4x595.44 with 1 Axes>"
      ]
     },
     "metadata": {},
     "output_type": "display_data"
    }
   ],
   "source": [
    "plt.scatter(x_t[:,0][y_t==0], x_t[:,1][y_t==0], s=5, c='red', label ='Cluster 1')\n",
    "plt.scatter(x_t[:,0][y_t==1], x_t[:,1][y_t==1], s=5, c='blue', label ='Cluster 2')\n",
    "plt.scatter(x_t[:,0][y_t==2], x_t[:,1][y_t==2], s=5, c='green', label ='Cluster 3')\n",
    "plt.scatter(clusterpoints[:,0], clusterpoints[:,1], s=50, c='magenta', label = 'Centroids')\n",
    "plt.title('Categorised wine')\n",
    "plt.xlabel('Component 1')\n",
    "plt.ylabel('Component 2')\n",
    "plt.show"
   ]
  },
  {
   "cell_type": "code",
   "execution_count": null,
   "metadata": {},
   "outputs": [],
   "source": []
  }
 ],
 "metadata": {
  "kernelspec": {
   "display_name": "Python 3",
   "language": "python",
   "name": "python3"
  },
  "language_info": {
   "codemirror_mode": {
    "name": "ipython",
    "version": 3
   },
   "file_extension": ".py",
   "mimetype": "text/x-python",
   "name": "python",
   "nbconvert_exporter": "python",
   "pygments_lexer": "ipython3",
   "version": "3.9.0"
  }
 },
 "nbformat": 4,
 "nbformat_minor": 4
}
